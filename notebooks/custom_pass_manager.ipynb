{
 "cells": [
  {
   "cell_type": "markdown",
   "id": "dd51477e-ea5f-4867-806f-1936af5c5487",
   "metadata": {},
   "source": [
    "# Custom Staged PassManager"
   ]
  },
  {
   "cell_type": "code",
   "execution_count": 3,
   "id": "ecb2198f-e1d4-4969-9f22-0d95082be3d7",
   "metadata": {},
   "outputs": [],
   "source": [
    "from qiskit.transpiler.passmanager import StagedPassManager\n",
    "from qiskit.transpiler.passmanager_config import PassManagerConfig\n",
    "from qiskit.transpiler.preset_passmanagers.plugin import PassManagerStagePluginManager"
   ]
  },
  {
   "cell_type": "code",
   "execution_count": null,
   "id": "76944fa8-4113-4812-96e6-c764d09df646",
   "metadata": {},
   "outputs": [],
   "source": []
  },
  {
   "cell_type": "code",
   "execution_count": 5,
   "id": "ddeb2bfc-680e-4284-8daa-6f8e5f673052",
   "metadata": {},
   "outputs": [],
   "source": [
    "def qopt_pass_manager(pass_manager_config: PassManagerConfig) -> StagedPassManager:\n",
    "    \"\"\"\n",
    "    Applies user generated custom layout.\n",
    "    Unused physical qubit is allocated to ancilla space.\n",
    "\n",
    "    The pass manager unrolls the circuit to the desired basis and transforms the circuit to match the coupling map.\n",
    "\n",
    "    \n",
    "    \"\"\"\n",
    "    basis_gates = pass_manager_config.basis_gates\n",
    "    coupling_map = pass_manager_config.coupling_map\n",
    "    initial_layout = pass_manager_config.initial_layout\n",
    "    init_method = pass_manager_config.init_method or \"default\"\n",
    "    layout_method = pass_manager_config.layout_method or \"default\"\n",
    "    routing_method = pass_manager_config.routing_method or \"default\"\n",
    "    translation_method = pass_manager_config.translation_method or \"default\"\n",
    "    optimization_method = pass_manager_config.optimization_method or \"default\"\n",
    "    scheduling_method = pass_manager_config.scheduling_method or \"default\"\n",
    "    target = pass_manager_config.target\n",
    "\n",
    "    # Build pass manager\n",
    "    plugin_manager= PassManagerStagePluginManager()\n",
    "\n",
    "    routing_pm = plugin_manager.get_passmanager_stage(\n",
    "        \"routing\", routing_method, pass_manager_config, optimization_level=0\n",
    "    )\n",
    "\n",
    "    if coupling_map or initial_layout:\n",
    "        layout - plugin_manager.get_passmanager_stage(\n",
    "            \"layout\", layout_method, pass_manager_config, optimization_level=0\n",
    "        )\n",
    "        routing = routing_pm\n",
    "    else:\n",
    "        layout = None\n",
    "        routing = None\n",
    "\n",
    "    translation = plugin_manager.get_passmanager_stage(\n",
    "        \"translation\", translation_method, pass_manager_config, optimization_level=0\n",
    "    )\n",
    "\n",
    "    sched = plugin_manager.get_passmanager_stage(\n",
    "        \"scheduling\", scheduling_method, pass_manager_config, optimization_level=0\n",
    "    )\n",
    "\n",
    "    pre_init = common.generate_control_flow_options_check(\n",
    "        layout_method=layout_method,\n",
    "        routing_method=routing_method,\n",
    "        translation_method=translation_method,\n",
    "        optimization_method=optimization_method,\n",
    "        scheduling_method=scheduling_method,\n",
    "        basis_gates=basis_gates,\n",
    "        target=target,\n",
    "    )\n",
    "\n",
    "    init = plugin_manager.get_passmanager_stage(\n",
    "        \"init\", init_method, pass_manager_config, optimization_level=0\n",
    "    )\n",
    "    optimization = plugin_manager.get_passmanager_stage(\n",
    "        \"optimization\", optimization_method, pass_manager_config, optimization_level=0\n",
    "    )\n",
    "    \n",
    "    return StagedPassManager(\n",
    "        pre_init=pre_init,\n",
    "        init=init,\n",
    "        layout=custom_layout,\n",
    "        routing=custom_routing,\n",
    "        translation=translation,\n",
    "        optimization=optimization,\n",
    "        scheduling=sched\n",
    "    )"
   ]
  },
  {
   "cell_type": "markdown",
   "id": "5754ca28-5a9e-4343-82bf-7e5d8bf27233",
   "metadata": {},
   "source": [
    "## Generate custom layout"
   ]
  },
  {
   "cell_type": "code",
   "execution_count": 6,
   "id": "b40a929d-4a38-4f3a-9b81-d380410fe143",
   "metadata": {},
   "outputs": [],
   "source": [
    "from qiskit.transpiler.layout import Layout"
   ]
  },
  {
   "cell_type": "code",
   "execution_count": null,
   "id": "54fd0cc1-a4b5-4d7c-b959-6cf42d898741",
   "metadata": {},
   "outputs": [],
   "source": [
    "class QopsLayout(Layout):\n",
    "    \"\"\"\n",
    "    Generates a customized layout based on Christofides algorithm\n",
    "    \"\"\"\n",
    "    def __init__(self, input_dict=None):\n",
    "        "
   ]
  }
 ],
 "metadata": {
  "kernelspec": {
   "display_name": "Python 3 (ipykernel)",
   "language": "python",
   "name": "python3"
  },
  "language_info": {
   "codemirror_mode": {
    "name": "ipython",
    "version": 3
   },
   "file_extension": ".py",
   "mimetype": "text/x-python",
   "name": "python",
   "nbconvert_exporter": "python",
   "pygments_lexer": "ipython3",
   "version": "3.10.12"
  }
 },
 "nbformat": 4,
 "nbformat_minor": 5
}
