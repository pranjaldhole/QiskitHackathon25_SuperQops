{
 "cells": [
  {
   "cell_type": "markdown",
   "id": "8e5d2d80-f09a-4b4c-a6b6-9a7d9cd5a0bd",
   "metadata": {},
   "source": [
    "# This notebook implements code to fetch noise profile from a fake backend"
   ]
  },
  {
   "cell_type": "code",
   "execution_count": null,
   "id": "e2010fec-e8f5-4a82-b7a0-6a604c4fe4af",
   "metadata": {},
   "outputs": [],
   "source": [
    "from qiskit_ibm_runtime import QiskitRuntimeService\n",
    "\n",
    "from qiskit.transpiler.preset_passmanagers import generate_preset_pass_manager\n",
    "from qiskit_aer import AerSimulator\n",
    "from qiskit_aer.primitives import Estimator\n",
    "\n",
    "import rustworkx as rx\n",
    "from rustworkx.visualization import mpl_draw\n",
    "\n",
    "import numpy as np"
   ]
  },
  {
   "cell_type": "markdown",
   "id": "adc084e2-51ad-418d-b608-61c600fb9eda",
   "metadata": {},
   "source": [
    "## Connect to a fake backend with AerSimulator"
   ]
  },
  {
   "cell_type": "code",
   "execution_count": null,
   "id": "86f4d99d-5124-4b05-b0c1-79be975b99c2",
   "metadata": {},
   "outputs": [],
   "source": [
    "# Need to do only once\n",
    "\n",
    "#service = QiskitRuntimeService.save_account(\n",
    "#    channel='ibm_quantum',\n",
    "#    instance='ibm-q/open/main',\n",
    "#    set_as_default=True,\n",
    "#    overwrite=True,\n",
    "#    token='<IBM Quantum API key>'\n",
    "#)"
   ]
  },
  {
   "cell_type": "code",
   "execution_count": null,
   "id": "aad56db6-627a-40a8-846b-28db99819a39",
   "metadata": {},
   "outputs": [],
   "source": [
    "service = QiskitRuntimeService()"
   ]
  },
  {
   "cell_type": "code",
   "execution_count": null,
   "id": "4922c13d-4c93-4db8-afb1-53bee6c7442d",
   "metadata": {},
   "outputs": [],
   "source": [
    "dev_list = service.backends(\n",
    "    filters = lambda x: x.configuration().n_qubits >= 5,\n",
    "    simulator = False)"
   ]
  },
  {
   "cell_type": "code",
   "execution_count": null,
   "id": "2483f67c-be0c-4c30-b69b-4b4882c6cdd4",
   "metadata": {},
   "outputs": [],
   "source": [
    "print(dev_list)"
   ]
  },
  {
   "cell_type": "code",
   "execution_count": null,
   "id": "a4ae3a2a-f2ac-4e97-8617-e54fb75807e8",
   "metadata": {},
   "outputs": [],
   "source": [
    "# Select least busy backend\n",
    "dev = service.least_busy(min_num_qubits=5, simulator=False, operational=True)\n",
    "print(dev)"
   ]
  },
  {
   "cell_type": "code",
   "execution_count": null,
   "id": "5c1808ee-6585-461a-ae84-886e38fb1ec9",
   "metadata": {},
   "outputs": [],
   "source": [
    "seed_sim = 42\n",
    "noisy_fake_backend = AerSimulator.from_backend(dev, seed_simulator=seed_sim)\n",
    "print(noisy_fake_backend)"
   ]
  },
  {
   "cell_type": "markdown",
   "id": "5a35dea5-f2be-4c83-bb74-249bea1c3525",
   "metadata": {},
   "source": [
    "## Construct hardware topology graph of the backend"
   ]
  },
  {
   "cell_type": "code",
   "execution_count": null,
   "id": "71632796-6e30-4b89-b621-4b9fffb2ab49",
   "metadata": {},
   "outputs": [],
   "source": [
    "graph = rx.PyDiGraph()"
   ]
  },
  {
   "cell_type": "code",
   "execution_count": null,
   "id": "d96911d8-e5af-44a9-a84c-51041e862cb7",
   "metadata": {},
   "outputs": [],
   "source": [
    "noisy_fake_backend.num_qubits"
   ]
  },
  {
   "cell_type": "code",
   "execution_count": null,
   "id": "6ec760b5-40a1-453f-af09-c5c807f63327",
   "metadata": {},
   "outputs": [],
   "source": [
    "graph.add_nodes_from(np.arange(0, noisy_fake_backend.num_qubits, 1))"
   ]
  },
  {
   "cell_type": "code",
   "execution_count": null,
   "id": "304494e7-1807-415b-8250-140db25c301d",
   "metadata": {},
   "outputs": [],
   "source": [
    "two_qubit_gate='ecr'"
   ]
  },
  {
   "cell_type": "code",
   "execution_count": null,
   "id": "83824514-d561-43ee-b1da-029071baf460",
   "metadata": {},
   "outputs": [],
   "source": [
    "noisy_fake_backend.coupling_map.connected_components()"
   ]
  },
  {
   "cell_type": "code",
   "execution_count": null,
   "id": "760c9056-21d8-4826-b6bf-cc95493c36fd",
   "metadata": {},
   "outputs": [],
   "source": [
    "graph.add_edges_from(\n",
    "    [\n",
    "        (\n",
    "            edge[0],\n",
    "            edge[1],\n",
    "            noisy_fake_backend.properties().gate_error(gate=two_qubit_gate, qubits=(edge[0], edge[1]))\n",
    "        )\n",
    "        for edge in noisy_fake_backend.coupling_map\n",
    "    ]\n",
    ")\n"
   ]
  },
  {
   "cell_type": "code",
   "execution_count": null,
   "id": "8332af85-4564-4b64-a8c0-f9512400bfcb",
   "metadata": {},
   "outputs": [],
   "source": [
    "mpl_draw(graph, with_labels=True)"
   ]
  },
  {
   "cell_type": "markdown",
   "id": "ade6bd80-d942-4db5-a967-ea6867b7f941",
   "metadata": {},
   "source": [
    "## Noise profile of each qubit"
   ]
  },
  {
   "cell_type": "code",
   "execution_count": null,
   "id": "0ee3c224-0db5-4802-b256-48511e1717cf",
   "metadata": {},
   "outputs": [],
   "source": [
    "from qiskit.visualization import plot_error_map"
   ]
  },
  {
   "cell_type": "code",
   "execution_count": null,
   "id": "4e3a87e9-0a74-4cd3-bce7-e956f1b7017c",
   "metadata": {},
   "outputs": [],
   "source": [
    "plot_error_map(noisy_fake_backend, figsize=(30, 24))"
   ]
  },
  {
   "cell_type": "code",
   "execution_count": null,
   "id": "8f121d3b-e3e8-4df4-9c9c-76dc17522d89",
   "metadata": {},
   "outputs": [],
   "source": [
    "Noise_dict = dict()"
   ]
  },
  {
   "cell_type": "code",
   "execution_count": null,
   "id": "0945a6cf-306d-4687-a084-334176e2e125",
   "metadata": {},
   "outputs": [],
   "source": [
    "backend_name = noisy_fake_backend.name\n",
    "num_qubits = noisy_fake_backend.num_qubits\n",
    "cmap = noisy_fake_backend.coupling_map\n",
    "two_q_error_map = {}\n",
    "single_gate_errors = [0] * num_qubits\n",
    "read_err = [0] * num_qubits\n",
    "cx_errors = []\n",
    "for gate, prop_dict in noisy_fake_backend.target.items():\n",
    "    if prop_dict is None or None in prop_dict:\n",
    "        continue\n",
    "    for qargs, inst_props in prop_dict.items():\n",
    "        if inst_props is None:\n",
    "            continue\n",
    "        if gate == \"measure\":\n",
    "            if inst_props.error is not None:\n",
    "                read_err[qargs[0]] = inst_props.error\n",
    "                Noise_dict[f\"{qargs[0]}\"] = inst_props.error\n",
    "        elif len(qargs) == 1:\n",
    "            if inst_props.error is not None:\n",
    "                single_gate_errors[qargs[0]] = max(\n",
    "                    single_gate_errors[qargs[0]], inst_props.error\n",
    "                )\n",
    "        elif len(qargs) == 2:\n",
    "            if inst_props.error is not None:\n",
    "                two_q_error_map[qargs] = max(two_q_error_map.get(qargs, 0), inst_props.error)"
   ]
  },
  {
   "cell_type": "code",
   "execution_count": null,
   "id": "1b8d0bc3-228d-425b-b604-4dc62e2f6925",
   "metadata": {},
   "outputs": [],
   "source": [
    "len(read_err)"
   ]
  },
  {
   "cell_type": "code",
   "execution_count": null,
   "id": "ce2e68d6-0544-4032-87c2-dcaa7f5fb486",
   "metadata": {},
   "outputs": [],
   "source": [
    "Noise_dict"
   ]
  },
  {
   "cell_type": "code",
   "execution_count": null,
   "id": "bc246f20-c152-4272-8606-7f08293f71d4",
   "metadata": {},
   "outputs": [],
   "source": []
  }
 ],
 "metadata": {
  "kernelspec": {
   "display_name": "Python 3 (ipykernel)",
   "language": "python",
   "name": "python3"
  },
  "language_info": {
   "codemirror_mode": {
    "name": "ipython",
    "version": 3
   },
   "file_extension": ".py",
   "mimetype": "text/x-python",
   "name": "python",
   "nbconvert_exporter": "python",
   "pygments_lexer": "ipython3",
   "version": "3.10.12"
  }
 },
 "nbformat": 4,
 "nbformat_minor": 5
}
