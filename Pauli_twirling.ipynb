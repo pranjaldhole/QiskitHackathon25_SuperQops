{
 "cells": [
  {
   "cell_type": "code",
   "execution_count": 1,
   "id": "f7109eea",
   "metadata": {},
   "outputs": [],
   "source": [
    "import matplotlib.pyplot as plt\n",
    "import numpy as np\n",
    "import networkx as nx\n",
    "\n",
    "from qiskit_optimization.applications import Maxcut, Tsp\n",
    "from qiskit_algorithms import SamplingVQE, NumPyMinimumEigensolver\n",
    "from qiskit_algorithms.optimizers import SPSA\n",
    "from qiskit_algorithms.utils import algorithm_globals\n",
    "from qiskit_optimization.algorithms import MinimumEigenOptimizer"
   ]
  },
  {
   "cell_type": "code",
   "execution_count": 2,
   "id": "872f7c0b",
   "metadata": {},
   "outputs": [],
   "source": [
    "def draw_graph(G, colors, pos):\n",
    "    default_axes = plt.axes(frameon=True)\n",
    "    nx.draw_networkx(G, node_color=colors, node_size=500, alpha=0.8, ax=default_axes, pos=pos)"
   ]
  },
  {
   "cell_type": "code",
   "execution_count": 12,
   "id": "493b4998",
   "metadata": {},
   "outputs": [],
   "source": [
    "locations = {\n",
    "    0: {\"name\": \"Deggendorf Central Station\", \"pos\": (48.8369, 12.9613)},\n",
    "    1: {\"name\": \"Stadtpark\", \"pos\": (48.8315, 12.9632)},\n",
    "    2: {\"name\": \"Stadthalle\", \"pos\": (48.8344, 12.9661)},\n",
    "\n",
    "}\n",
    "\n",
    "distance_matrix = np.array([\n",
    "    [0, 1.3, 0.9],\n",
    "    [1.3, 0, 0.6],\n",
    "    [0.9, 0.6, 0],\n",
    "])\n",
    "\n",
    "n = len(locations)\n",
    "K = 2\n"
   ]
  },
  {
   "cell_type": "code",
   "execution_count": null,
   "id": "4ed5e7ad",
   "metadata": {},
   "outputs": [
    {
     "name": "stdout",
     "output_type": "stream",
     "text": [
      "distance\n",
      " [[0.  1.3 0.9]\n",
      " [1.3 0.  0.6]\n",
      " [0.9 0.6 0. ]]\n"
     ]
    },
    {
     "data": {
      "image/png": "[encoded data removed]",
      "text/plain": [
       "<Figure size 640x480 with 1 Axes>"
      ]
     },
     "metadata": {},
     "output_type": "display_data"
    }
   ],
   "source": [
    "# Create a graph from the locations dataset\n",
    "G = nx.Graph()\n",
    "\n",
    "for loc_id, loc_data in locations.items():\n",
    "    G.add_node(loc_id, pos=loc_data[\"pos\"])\n",
    "\n",
    "# Add edges with distances as weights\n",
    "for i in range(len(locations)):\n",
    "    for j in range(i + 1, len(locations)):\n",
    "        distance = distance_matrix[i, j]\n",
    "        G.add_edge(i, j, weight=distance)\n",
    "\n",
    "# Extract adjacency matrix\n",
    "adj_matrix = nx.to_numpy_array(G)\n",
    "print(\"distance\\n\", adj_matrix)\n",
    "\n",
    "# Define colors and positions for the graph\n",
    "colors = [\"r\" for node in G.nodes]\n",
    "pos = nx.get_node_attributes(G, \"pos\")\n",
    "draw_graph(G, colors, pos)"
   ]
  },
  {
   "cell_type": "code",
   "execution_count": 17,
   "id": "dcb1f296",
   "metadata": {},
   "outputs": [
    {
     "name": "stdout",
     "output_type": "stream",
     "text": [
      "Cost Matrix:\n",
      " [[inf 1.3 0.9]\n",
      " [1.3 inf 0.6]\n",
      " [0.9 0.6 inf]]\n"
     ]
    }
   ],
   "source": [
    "cost_matrix = adj_matrix.copy()\n",
    "np.fill_diagonal(cost_matrix, np.inf)\n",
    "print(\"Cost Matrix:\\n\", cost_matrix)"
   ]
  },
  {
   "cell_type": "code",
   "execution_count": 19,
   "id": "3730b5b1",
   "metadata": {},
   "outputs": [
    {
     "name": "stdout",
     "output_type": "stream",
     "text": [
      "Problem name: TSP\n",
      "\n",
      "Minimize\n",
      "  48*x_0_0*x_1_1 + 48*x_0_0*x_1_4 + 91*x_0_0*x_2_1 + 91*x_0_0*x_2_4\n",
      "  + 33*x_0_0*x_3_1 + 33*x_0_0*x_3_4 + 85*x_0_0*x_4_1 + 85*x_0_0*x_4_4\n",
      "  + 48*x_0_1*x_1_0 + 48*x_0_1*x_1_2 + 91*x_0_1*x_2_0 + 91*x_0_1*x_2_2\n",
      "  + 33*x_0_1*x_3_0 + 33*x_0_1*x_3_2 + 85*x_0_1*x_4_0 + 85*x_0_1*x_4_2\n",
      "  + 48*x_0_2*x_1_1 + 48*x_0_2*x_1_3 + 91*x_0_2*x_2_1 + 91*x_0_2*x_2_3\n",
      "  + 33*x_0_2*x_3_1 + 33*x_0_2*x_3_3 + 85*x_0_2*x_4_1 + 85*x_0_2*x_4_3\n",
      "  + 48*x_0_3*x_1_2 + 48*x_0_3*x_1_4 + 91*x_0_3*x_2_2 + 91*x_0_3*x_2_4\n",
      "  + 33*x_0_3*x_3_2 + 33*x_0_3*x_3_4 + 85*x_0_3*x_4_2 + 85*x_0_3*x_4_4\n",
      "  + 48*x_0_4*x_1_0 + 48*x_0_4*x_1_3 + 91*x_0_4*x_2_0 + 91*x_0_4*x_2_3\n",
      "  + 33*x_0_4*x_3_0 + 33*x_0_4*x_3_3 + 85*x_0_4*x_4_0 + 85*x_0_4*x_4_3\n",
      "  + 63*x_1_0*x_2_1 + 63*x_1_0*x_2_4 + 71*x_1_0*x_3_1 + 71*x_1_0*x_3_4\n",
      "  + 93*x_1_0*x_4_1 + 93*x_1_0*x_4_4 + 63*x_1_1*x_2_0 + 63*x_1_1*x_2_2\n",
      "  + 71*x_1_1*x_3_0 + 71*x_1_1*x_3_2 + 93*x_1_1*x_4_0 + 93*x_1_1*x_4_2\n",
      "  + 63*x_1_2*x_2_1 + 63*x_1_2*x_2_3 + 71*x_1_2*x_3_1 + 71*x_1_2*x_3_3\n",
      "  + 93*x_1_2*x_4_1 + 93*x_1_2*x_4_3 + 63*x_1_3*x_2_2 + 63*x_1_3*x_2_4\n",
      "  + 71*x_1_3*x_3_2 + 71*x_1_3*x_3_4 + 93*x_1_3*x_4_2 + 93*x_1_3*x_4_4\n",
      "  + 63*x_1_4*x_2_0 + 63*x_1_4*x_2_3 + 71*x_1_4*x_3_0 + 71*x_1_4*x_3_3\n",
      "  + 93*x_1_4*x_4_0 + 93*x_1_4*x_4_3 + 92*x_2_0*x_3_1 + 92*x_2_0*x_3_4\n",
      "  + 65*x_2_0*x_4_1 + 65*x_2_0*x_4_4 + 92*x_2_1*x_3_0 + 92*x_2_1*x_3_2\n",
      "  + 65*x_2_1*x_4_0 + 65*x_2_1*x_4_2 + 92*x_2_2*x_3_1 + 92*x_2_2*x_3_3\n",
      "  + 65*x_2_2*x_4_1 + 65*x_2_2*x_4_3 + 92*x_2_3*x_3_2 + 92*x_2_3*x_3_4\n",
      "  + 65*x_2_3*x_4_2 + 65*x_2_3*x_4_4 + 92*x_2_4*x_3_0 + 92*x_2_4*x_3_3\n",
      "  + 65*x_2_4*x_4_0 + 65*x_2_4*x_4_3 + 62*x_3_0*x_4_1 + 62*x_3_0*x_4_4\n",
      "  + 62*x_3_1*x_4_0 + 62*x_3_1*x_4_2 + 62*x_3_2*x_4_1 + 62*x_3_2*x_4_3\n",
      "  + 62*x_3_3*x_4_2 + 62*x_3_3*x_4_4 + 62*x_3_4*x_4_0 + 62*x_3_4*x_4_3\n",
      "\n",
      "Subject to\n",
      "  Linear constraints (10)\n",
      "    x_0_0 + x_0_1 + x_0_2 + x_0_3 + x_0_4 == 1  'c0'\n",
      "    x_1_0 + x_1_1 + x_1_2 + x_1_3 + x_1_4 == 1  'c1'\n",
      "    x_2_0 + x_2_1 + x_2_2 + x_2_3 + x_2_4 == 1  'c2'\n",
      "    x_3_0 + x_3_1 + x_3_2 + x_3_3 + x_3_4 == 1  'c3'\n",
      "    x_4_0 + x_4_1 + x_4_2 + x_4_3 + x_4_4 == 1  'c4'\n",
      "    x_0_0 + x_1_0 + x_2_0 + x_3_0 + x_4_0 == 1  'c5'\n",
      "    x_0_1 + x_1_1 + x_2_1 + x_3_1 + x_4_1 == 1  'c6'\n",
      "    x_0_2 + x_1_2 + x_2_2 + x_3_2 + x_4_2 == 1  'c7'\n",
      "    x_0_3 + x_1_3 + x_2_3 + x_3_3 + x_4_3 == 1  'c8'\n",
      "    x_0_4 + x_1_4 + x_2_4 + x_3_4 + x_4_4 == 1  'c9'\n",
      "\n",
      "  Binary variables (25)\n",
      "    x_0_0 x_0_1 x_0_2 x_0_3 x_0_4 x_1_0 x_1_1 x_1_2 x_1_3 x_1_4 x_2_0 x_2_1\n",
      "    x_2_2 x_2_3 x_2_4 x_3_0 x_3_1 x_3_2 x_3_3 x_3_4 x_4_0 x_4_1 x_4_2 x_4_3\n",
      "    x_4_4\n",
      "\n"
     ]
    }
   ],
   "source": [
    "qp = tsp.to_quadratic_program()\n",
    "print(qp.prettyprint())"
   ]
  },
  {
   "cell_type": "code",
   "execution_count": 20,
   "id": "f7435bc9",
   "metadata": {},
   "outputs": [],
   "source": [
    "from qiskit.transpiler import PassManager\n",
    "from qiskit.transpiler.passes import (\n",
    "    Collect2qBlocks,\n",
    "    ConsolidateBlocks,\n",
    "    UnitarySynthesis,\n",
    ")\n",
    " \n",
    "basis_gates = [\"rx\", \"ry\", \"rxx\"]\n",
    "translate = PassManager(\n",
    "    [\n",
    "        Collect2qBlocks(),\n",
    "        ConsolidateBlocks(basis_gates=basis_gates),\n",
    "        UnitarySynthesis(basis_gates),\n",
    "    ]\n",
    ")"
   ]
  },
  {
   "cell_type": "code",
   "execution_count": 22,
   "id": "97f23c09",
   "metadata": {},
   "outputs": [
    {
     "data": {
      "text/html": [
       "<pre style=\"word-wrap: normal;white-space: pre;background: #fff0;line-height: 1.1;font-family: &quot;Courier New&quot;,Courier,monospace\">     ┌───┐     ┌───┐\n",
       "q_0: ┤ H ├──■──┤ X ├\n",
       "     └───┘┌─┴─┐└─┬─┘\n",
       "q_1: ─────┤ X ├──■──\n",
       "          └───┘     </pre>"
      ],
      "text/plain": [
       "     ┌───┐     ┌───┐\n",
       "q_0: ┤ H ├──■──┤ X ├\n",
       "     └───┘┌─┴─┐└─┬─┘\n",
       "q_1: ─────┤ X ├──■──\n",
       "          └───┘     "
      ]
     },
     "execution_count": 22,
     "metadata": {},
     "output_type": "execute_result"
    }
   ],
   "source": [
    "from qiskit import QuantumRegister, QuantumCircuit\n",
    " \n",
    "qubits = QuantumRegister(2, name=\"q\")\n",
    "circuit = QuantumCircuit(qubits)\n",
    " \n",
    "a, b = qubits\n",
    "circuit.h(a)\n",
    "circuit.cx(a, b)\n",
    "circuit.cx(b, a)\n",
    " \n",
    "circuit.draw()"
   ]
  },
  {
   "cell_type": "code",
   "execution_count": 25,
   "id": "8aa7d5cd",
   "metadata": {},
   "outputs": [
    {
     "data": {
      "text/html": [
       "<pre style=\"word-wrap: normal;white-space: pre;background: #fff0;line-height: 1.1;font-family: &quot;Courier New&quot;,Courier,monospace\">global phase: π/2\n",
       "     ┌─────────┐ ┌─────────┐┌───────────┐┌───────────┐┌──────────┐┌─────────┐»\n",
       "q_0: ┤ Rx(π/2) ├─┤ Ry(π/2) ├┤ Rx(-3π/4) ├┤0          ├┤ Rx(3π/4) ├┤ Ry(π/2) ├»\n",
       "     ├─────────┴┐├─────────┤└┬─────────┬┘│  Rxx(π/2) │├──────────┤├─────────┤»\n",
       "q_1: ┤ Rx(-π/2) ├┤ Ry(π/2) ├─┤ Rx(π/4) ├─┤1          ├┤ Rx(-π/4) ├┤ Ry(π/2) ├»\n",
       "     └──────────┘└─────────┘ └─────────┘ └───────────┘└──────────┘└─────────┘»\n",
       "«     ┌───────────┐┌───────────┐┌──────────┐┌─────────┐┌─────────┐ \n",
       "«q_0: ┤ Rx(-3π/4) ├┤0          ├┤ Rx(3π/4) ├┤ Ry(π/2) ├┤ Rx(π/2) ├─\n",
       "«     ├───────────┤│  Rxx(π/2) │├─────────┬┘├─────────┤├─────────┴┐\n",
       "«q_1: ┤ Rx(-3π/4) ├┤1          ├┤ Rx(π/4) ├─┤ Ry(π/2) ├┤ Rx(-π/2) ├\n",
       "«     └───────────┘└───────────┘└─────────┘ └─────────┘└──────────┘</pre>"
      ],
      "text/plain": [
       "global phase: π/2\n",
       "     ┌─────────┐ ┌─────────┐┌───────────┐┌───────────┐┌──────────┐┌─────────┐»\n",
       "q_0: ┤ Rx(π/2) ├─┤ Ry(π/2) ├┤ Rx(-3π/4) ├┤0          ├┤ Rx(3π/4) ├┤ Ry(π/2) ├»\n",
       "     ├─────────┴┐├─────────┤└┬─────────┬┘│  Rxx(π/2) │├──────────┤├─────────┤»\n",
       "q_1: ┤ Rx(-π/2) ├┤ Ry(π/2) ├─┤ Rx(π/4) ├─┤1          ├┤ Rx(-π/4) ├┤ Ry(π/2) ├»\n",
       "     └──────────┘└─────────┘ └─────────┘ └───────────┘└──────────┘└─────────┘»\n",
       "«     ┌───────────┐┌───────────┐┌──────────┐┌─────────┐┌─────────┐ \n",
       "«q_0: ┤ Rx(-3π/4) ├┤0          ├┤ Rx(3π/4) ├┤ Ry(π/2) ├┤ Rx(π/2) ├─\n",
       "«     ├───────────┤│  Rxx(π/2) │├─────────┬┘├─────────┤├─────────┴┐\n",
       "«q_1: ┤ Rx(-3π/4) ├┤1          ├┤ Rx(π/4) ├─┤ Ry(π/2) ├┤ Rx(-π/2) ├\n",
       "«     └───────────┘└───────────┘└─────────┘ └─────────┘└──────────┘"
      ]
     },
     "execution_count": 25,
     "metadata": {},
     "output_type": "execute_result"
    }
   ],
   "source": [
    "translated = translate.run(circuit)\n",
    "translated.draw()"
   ]
  },
  {
   "cell_type": "code",
   "execution_count": null,
   "id": "9898d577",
   "metadata": {},
   "outputs": [],
   "source": []
  },
  {
   "cell_type": "code",
   "execution_count": null,
   "id": "fefa2914",
   "metadata": {},
   "outputs": [],
   "source": [
    "#Pauli Twirling"
   ]
  },
  {
   "cell_type": "code",
   "execution_count": null,
   "id": "7219137a",
   "metadata": {},
   "outputs": [],
   "source": [
    "from qiskit.providers.fake_provider import FakeJakarta\n",
    "\n",
    "noisy_backend = FakeJakarta()\n",
    "target = noisy_backend.target\n",
    "num_qubits = noisy_backend.num_qubits\n",
    "cmap = noisy_backend.coupling_map\n",
    "\n",
    "combined_error = [0.0] * num_qubits\n",
    "for i in range(num_qubits):\n",
    "    combined_error[i] = Noise_dict.get(str(i), 0.0)\n",
    "\n",
    "sorted_qubits = sorted(range(num_qubits), key=lambda i: combined_error[i])\n",
    "required_logical_qubits = circuit.num_qubits\n",
    "good_qubits = sorted_qubits[:required_logical_qubits]"
   ]
  },
  {
   "cell_type": "code",
   "execution_count": null,
   "id": "014033ef",
   "metadata": {},
   "outputs": [],
   "source": [
    "from qiskit.transpiler import CouplingMap\n",
    "from qiskit.transpiler.layout import Layout\n",
    "\n",
    "filtered_edges = [[a, b] for [a, b] in cmap if a in good_qubits and b in good_qubits]\n",
    "filtered_coupling = CouplingMap(filtered_edges)\n",
    "\n",
    "logical_to_physical = {circuit.qubits[i]: good_qubits[i] for i in range(required_logical_qubits)}\n",
    "custom_layout = Layout(logical_to_physical)"
   ]
  },
  {
   "cell_type": "code",
   "execution_count": null,
   "id": "26a2b2b8",
   "metadata": {},
   "outputs": [],
   "source": [
    "from qiskit.transpiler import PassManager\n",
    "from qiskit.transpiler.passes import (\n",
    "    ApplyLayout, StochasticSwap, Optimize1qGates,\n",
    "    CXCancellation, PauliTwirling, DynamicalDecoupling\n",
    ")\n",
    "from qiskit.circuit.library import XGate\n",
    "\n",
    "durations = target.durations()\n",
    "dd_sequence = [XGate(), XGate()]\n",
    "\n",
    "custom_pm = PassManager([\n",
    "    ApplyLayout(custom_layout),\n",
    "    StochasticSwap(coupling_map=filtered_coupling),\n",
    "    Optimize1qGates(),\n",
    "    CXCancellation(),\n",
    "    PauliTwirling(),\n",
    "    DynamicalDecoupling(dd_sequence, filtered_coupling, durations)\n",
    "])"
   ]
  },
  {
   "cell_type": "code",
   "execution_count": null,
   "id": "b81bc33a",
   "metadata": {},
   "outputs": [],
   "source": [
    "from qiskit_aer import AerSimulator\n",
    "from qiskit import execute\n",
    "\n",
    "# Transpile\n",
    "transpiled_qaoa = custom_pm.run(circuit)"
   ]
  }
 ],
 "metadata": {
  "kernelspec": {
   "display_name": "qish_env",
   "language": "python",
   "name": "python3"
  },
  "language_info": {
   "codemirror_mode": {
    "name": "ipython",
    "version": 3
   },
   "file_extension": ".py",
   "mimetype": "text/x-python",
   "name": "python",
   "nbconvert_exporter": "python",
   "pygments_lexer": "ipython3",
   "version": "3.9.0"
  }
 },
 "nbformat": 4,
 "nbformat_minor": 5
}
